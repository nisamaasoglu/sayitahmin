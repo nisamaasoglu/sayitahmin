{
  "nbformat": 4,
  "nbformat_minor": 0,
  "metadata": {
    "colab": {
      "provenance": [],
      "authorship_tag": "ABX9TyPIZPPyOrMZP2asQUMaWE4U",
      "include_colab_link": true
    },
    "kernelspec": {
      "name": "python3",
      "display_name": "Python 3"
    },
    "language_info": {
      "name": "python"
    }
  },
  "cells": [
    {
      "cell_type": "markdown",
      "metadata": {
        "id": "view-in-github",
        "colab_type": "text"
      },
      "source": [
        "<a href=\"https://colab.research.google.com/github/nisamaasoglu/sayitahmin/blob/master/hangman.ipynb\" target=\"_parent\"><img src=\"https://colab.research.google.com/assets/colab-badge.svg\" alt=\"Open In Colab\"/></a>"
      ]
    },
    {
      "cell_type": "code",
      "execution_count": 8,
      "metadata": {
        "colab": {
          "base_uri": "https://localhost:8080/"
        },
        "id": "XozvvnGer9oW",
        "outputId": "3494dc54-d4dd-484a-a9d3-68ffbffc19c3"
      },
      "outputs": [
        {
          "output_type": "stream",
          "name": "stdout",
          "text": [
            "__________\n",
            "Guess a letter: 5\n",
            "Wrong! You have 5lives left.\n",
            "__________\n",
            "Guess a letter: h\n",
            "Wrong! You have 4lives left.\n",
            "__________\n",
            "Guess a letter: a\n",
            "_a________\n",
            "Guess a letter: s\n",
            "Wrong! You have 3lives left.\n",
            "_a________\n",
            "Guess a letter: b\n",
            "Wrong! You have 2lives left.\n",
            "_a________\n",
            "Guess a letter: w\n",
            "wa________\n",
            "Guess a letter: t\n",
            "wat_______\n",
            "Guess a letter: e\n",
            "wate__e___\n",
            "Guess a letter: r\n",
            "water_e___\n",
            "Guess a letter: m\n",
            "waterme___\n",
            "Guess a letter: l\n",
            "watermel__\n",
            "Guess a letter: o\n",
            "watermelo_\n",
            "Guess a letter: n\n",
            "Congratulations! You found the word: watermelon\n"
          ]
        }
      ],
      "source": [
        "import random\n",
        "#word list\n",
        "words=['apple','banana','watermelon','strawberry']\n",
        "chosen_word = random.choice(words)\n",
        "showing_word = ['_'] * len(chosen_word)\n",
        "number_of_lives = 6\n",
        "#game loop\n",
        "while number_of_lives>0 and '_' in showing_word:\n",
        "  print(''.join(showing_word))\n",
        "  guess=input('Guess a letter: ')\n",
        "\n",
        "  if guess in chosen_word:\n",
        "    for i, letter in enumerate(chosen_word):\n",
        "      if letter==guess:\n",
        "        showing_word[i]=guess\n",
        "\n",
        "  else:\n",
        "    number_of_lives -=1\n",
        "    print(f'Wrong! You have {number_of_lives}lives left.')\n",
        "#game over\n",
        "if'_' not in showing_word:\n",
        "  print('Congratulations! You found the word:',chosen_word)\n",
        "else:\n",
        "    print('Game Over! Correct word:',chosen_word)"
      ]
    }
  ]
}